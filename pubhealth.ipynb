{
 "cells": [
  {
   "cell_type": "markdown",
   "metadata": {},
   "source": [
    "# BERT System on PUBHEALTH dataset\n",
    "Below I will be going over investigating two BERT models on verifying the veracity of PUBHEALTH data. The first model being scibert and the second being bert based . Both of which can be found on the huggingface website\n"
   ]
  },
  {
   "cell_type": "markdown",
   "metadata": {},
   "source": [
    "**Loading libraries and dataset**"
   ]
  },
  {
   "cell_type": "code",
   "execution_count": 40,
   "metadata": {},
   "outputs": [],
   "source": [
    "# !pip install datasets\n",
    "# !pip install tensorflow\n",
    "# !pip install transformers\n"
   ]
  },
  {
   "cell_type": "code",
   "execution_count": 91,
   "metadata": {},
   "outputs": [],
   "source": [
    "import pandas as pd\n",
    "import numpy as np\n",
    "from datasets import load_dataset\n",
    "from tqdm.auto import tqdm\n",
    "import tensorflow as tf\n",
    "from matplotlib import pyplot as plt\n",
    "import seaborn as sns"
   ]
  },
  {
   "cell_type": "code",
   "execution_count": 92,
   "metadata": {},
   "outputs": [
    {
     "name": "stderr",
     "output_type": "stream",
     "text": [
      "WARNING:datasets.builder:Using custom data configuration default\n",
      "WARNING:datasets.builder:Reusing dataset health_fact (C:\\Users\\Alvi\\.cache\\huggingface\\datasets\\health_fact\\default\\1.1.0\\99503637e4255bd805f84d57031c18fe4dd88298f00299d56c94fc59ed68ec19)\n",
      "100%|██████████| 3/3 [00:00<00:00, 428.44it/s]"
     ]
    },
    {
     "name": "stdout",
     "output_type": "stream",
     "text": [
      "DatasetDict({\n",
      "    train: Dataset({\n",
      "        features: ['claim_id', 'claim', 'date_published', 'explanation', 'fact_checkers', 'main_text', 'sources', 'label', 'subjects'],\n",
      "        num_rows: 9832\n",
      "    })\n",
      "    test: Dataset({\n",
      "        features: ['claim_id', 'claim', 'date_published', 'explanation', 'fact_checkers', 'main_text', 'sources', 'label', 'subjects'],\n",
      "        num_rows: 1235\n",
      "    })\n",
      "    validation: Dataset({\n",
      "        features: ['claim_id', 'claim', 'date_published', 'explanation', 'fact_checkers', 'main_text', 'sources', 'label', 'subjects'],\n",
      "        num_rows: 1225\n",
      "    })\n",
      "})\n"
     ]
    },
    {
     "name": "stderr",
     "output_type": "stream",
     "text": [
      "\n"
     ]
    }
   ],
   "source": [
    "# Download PUBHEALTH dataset\n",
    "dataset = load_dataset(\"health_fact\")\n",
    "print(dataset)"
   ]
  },
  {
   "cell_type": "markdown",
   "metadata": {},
   "source": [
    "**Evaluating dataset**"
   ]
  },
  {
   "cell_type": "code",
   "execution_count": 93,
   "metadata": {},
   "outputs": [
    {
     "data": {
      "text/html": [
       "<div>\n",
       "<style scoped>\n",
       "    .dataframe tbody tr th:only-of-type {\n",
       "        vertical-align: middle;\n",
       "    }\n",
       "\n",
       "    .dataframe tbody tr th {\n",
       "        vertical-align: top;\n",
       "    }\n",
       "\n",
       "    .dataframe thead th {\n",
       "        text-align: right;\n",
       "    }\n",
       "</style>\n",
       "<table border=\"1\" class=\"dataframe\">\n",
       "  <thead>\n",
       "    <tr style=\"text-align: right;\">\n",
       "      <th></th>\n",
       "      <th>claim_id</th>\n",
       "      <th>claim</th>\n",
       "      <th>date_published</th>\n",
       "      <th>explanation</th>\n",
       "      <th>fact_checkers</th>\n",
       "      <th>main_text</th>\n",
       "      <th>sources</th>\n",
       "      <th>label</th>\n",
       "      <th>subjects</th>\n",
       "    </tr>\n",
       "  </thead>\n",
       "  <tbody>\n",
       "    <tr>\n",
       "      <th>0</th>\n",
       "      <td>15661</td>\n",
       "      <td>\"The money the Clinton Foundation took from fr...</td>\n",
       "      <td>April 26, 2015</td>\n",
       "      <td>\"Gingrich said the Clinton Foundation \"\"took m...</td>\n",
       "      <td>Katie Sanders</td>\n",
       "      <td>\"Hillary Clinton is in the political crosshair...</td>\n",
       "      <td>https://www.wsj.com/articles/clinton-foundatio...</td>\n",
       "      <td>0</td>\n",
       "      <td>Foreign Policy, PunditFact, Newt Gingrich,</td>\n",
       "    </tr>\n",
       "    <tr>\n",
       "      <th>1</th>\n",
       "      <td>9893</td>\n",
       "      <td>Annual Mammograms May Have More False-Positives</td>\n",
       "      <td>October 18, 2011</td>\n",
       "      <td>This article reports on the results of a study...</td>\n",
       "      <td></td>\n",
       "      <td>While the financial costs of screening mammogr...</td>\n",
       "      <td></td>\n",
       "      <td>1</td>\n",
       "      <td>Screening,WebMD,women's health</td>\n",
       "    </tr>\n",
       "    <tr>\n",
       "      <th>2</th>\n",
       "      <td>11358</td>\n",
       "      <td>SBRT Offers Prostate Cancer Patients High Canc...</td>\n",
       "      <td>September 28, 2016</td>\n",
       "      <td>This news release describes five-year outcomes...</td>\n",
       "      <td>Mary Chris Jaklevic,Steven J. Atlas, MD, MPH,K...</td>\n",
       "      <td>The news release quotes lead researcher Robert...</td>\n",
       "      <td>https://www.healthnewsreview.org/wp-content/up...</td>\n",
       "      <td>1</td>\n",
       "      <td>Association/Society news release,Cancer</td>\n",
       "    </tr>\n",
       "    <tr>\n",
       "      <th>3</th>\n",
       "      <td>10166</td>\n",
       "      <td>Study: Vaccine for Breast, Ovarian Cancer Has ...</td>\n",
       "      <td>November 8, 2011</td>\n",
       "      <td>While the story does many things well, the ove...</td>\n",
       "      <td></td>\n",
       "      <td>The story does discuss costs, but the framing ...</td>\n",
       "      <td>http://clinicaltrials.gov/ct2/results?term=can...</td>\n",
       "      <td>2</td>\n",
       "      <td>Cancer,WebMD,women's health</td>\n",
       "    </tr>\n",
       "    <tr>\n",
       "      <th>4</th>\n",
       "      <td>11276</td>\n",
       "      <td>Some appendicitis cases may not require ’emerg...</td>\n",
       "      <td>September 20, 2010</td>\n",
       "      <td>We really don’t understand why only a handful ...</td>\n",
       "      <td></td>\n",
       "      <td>\"Although the story didn’t cite the cost of ap...</td>\n",
       "      <td></td>\n",
       "      <td>2</td>\n",
       "      <td></td>\n",
       "    </tr>\n",
       "  </tbody>\n",
       "</table>\n",
       "</div>"
      ],
      "text/plain": [
       "  claim_id                                              claim  \\\n",
       "0    15661  \"The money the Clinton Foundation took from fr...   \n",
       "1     9893    Annual Mammograms May Have More False-Positives   \n",
       "2    11358  SBRT Offers Prostate Cancer Patients High Canc...   \n",
       "3    10166  Study: Vaccine for Breast, Ovarian Cancer Has ...   \n",
       "4    11276  Some appendicitis cases may not require ’emerg...   \n",
       "\n",
       "       date_published                                        explanation  \\\n",
       "0      April 26, 2015  \"Gingrich said the Clinton Foundation \"\"took m...   \n",
       "1    October 18, 2011  This article reports on the results of a study...   \n",
       "2  September 28, 2016  This news release describes five-year outcomes...   \n",
       "3    November 8, 2011  While the story does many things well, the ove...   \n",
       "4  September 20, 2010  We really don’t understand why only a handful ...   \n",
       "\n",
       "                                       fact_checkers  \\\n",
       "0                                      Katie Sanders   \n",
       "1                                                      \n",
       "2  Mary Chris Jaklevic,Steven J. Atlas, MD, MPH,K...   \n",
       "3                                                      \n",
       "4                                                      \n",
       "\n",
       "                                           main_text  \\\n",
       "0  \"Hillary Clinton is in the political crosshair...   \n",
       "1  While the financial costs of screening mammogr...   \n",
       "2  The news release quotes lead researcher Robert...   \n",
       "3  The story does discuss costs, but the framing ...   \n",
       "4  \"Although the story didn’t cite the cost of ap...   \n",
       "\n",
       "                                             sources  label  \\\n",
       "0  https://www.wsj.com/articles/clinton-foundatio...      0   \n",
       "1                                                         1   \n",
       "2  https://www.healthnewsreview.org/wp-content/up...      1   \n",
       "3  http://clinicaltrials.gov/ct2/results?term=can...      2   \n",
       "4                                                         2   \n",
       "\n",
       "                                      subjects  \n",
       "0  Foreign Policy, PunditFact, Newt Gingrich,   \n",
       "1               Screening,WebMD,women's health  \n",
       "2      Association/Society news release,Cancer  \n",
       "3                  Cancer,WebMD,women's health  \n",
       "4                                               "
      ]
     },
     "execution_count": 93,
     "metadata": {},
     "output_type": "execute_result"
    }
   ],
   "source": [
    "df_train = pd.DataFrame.from_dict(dataset[\"train\"])\n",
    "df_test = pd.DataFrame.from_dict(dataset[\"test\"])\n",
    "df_val = pd.DataFrame.from_dict(dataset[\"validation\"])\n",
    "df_train.head()"
   ]
  },
  {
   "cell_type": "markdown",
   "metadata": {},
   "source": [
    "The explanation and claim are the main parts we will be looking make label classification\n",
    "In the dataset, there appears to be a 3 and a -1. Unsure which label corresponds to \"unproven\", I took the example from the https://arxiv.org/pdf/2010.09926.pdf paper *\"Blue Buffalo pet food contains unsafe and higher-than-average levels of lead\"*\n",
    "\n",
    "The paper states this is an \"unproven\" label and so removed all rows with -1"
   ]
  },
  {
   "cell_type": "code",
   "execution_count": 94,
   "metadata": {},
   "outputs": [
    {
     "name": "stdout",
     "output_type": "stream",
     "text": [
      " 2    5078\n",
      " 0    3001\n",
      " 1    1434\n",
      " 3     291\n",
      "-1      28\n",
      "Name: label, dtype: int64\n"
     ]
    }
   ],
   "source": [
    "# 0 - false\n",
    "# 1 - mixture\n",
    "# 2 - true\n",
    "print(df_train['label'].value_counts())"
   ]
  },
  {
   "cell_type": "code",
   "execution_count": 95,
   "metadata": {},
   "outputs": [
    {
     "name": "stdout",
     "output_type": "stream",
     "text": [
      "    claim_id                                              claim  \\\n",
      "243    34307  Blue Buffalo pet food contains unsafe and high...   \n",
      "\n",
      "     date_published                                        explanation  \\\n",
      "243  March 19, 2018  Aside from a single claimant’s lawsuit against...   \n",
      "\n",
      "    fact_checkers                                          main_text sources  \\\n",
      "243  Kim LaCapria  In June 2017, a rumor appeared that Blue Buffa...           \n",
      "\n",
      "     label                                subjects  \n",
      "243      3  Critter Country, contaminated pet food  \n"
     ]
    }
   ],
   "source": [
    "val = df_val[df_val['label']==3]\n",
    "contain_values = val[val['claim'].str.contains('Blue Buffalo')]\n",
    "\n",
    "print (contain_values)"
   ]
  },
  {
   "cell_type": "code",
   "execution_count": 96,
   "metadata": {},
   "outputs": [],
   "source": [
    "# Removing -1 since unclear what it is supposed to represent\n",
    "df_train = df_train[df_train['label']!=-1]\n",
    "df_test = df_test[df_test['label']!=-1]\n",
    "df_val = df_val[df_val['label']!=-1]\n"
   ]
  },
  {
   "cell_type": "markdown",
   "metadata": {},
   "source": [
    "It would be ideal to use Sentence Transformer introduced (Sentence-BERT: Sentence Embeddings using Siamese BERT-Networks, https://arxiv.org/pdf/1908.10084.pdf) in order to tackle the similarity aspect. \n",
    "\n",
    "It will help us understand whether the explanation is related to the claim. And in so \"back up\" the idea that label is true, false, mixture, unproven\n",
    "\n",
    "However due to hardware and time restraint, chose to merge both claim and explanation and proceed with BERT embedding and classification. E.g. encoding explanation column took 25 minutes\n"
   ]
  },
  {
   "cell_type": "code",
   "execution_count": 97,
   "metadata": {},
   "outputs": [
    {
     "data": {
      "text/html": [
       "<div>\n",
       "<style scoped>\n",
       "    .dataframe tbody tr th:only-of-type {\n",
       "        vertical-align: middle;\n",
       "    }\n",
       "\n",
       "    .dataframe tbody tr th {\n",
       "        vertical-align: top;\n",
       "    }\n",
       "\n",
       "    .dataframe thead th {\n",
       "        text-align: right;\n",
       "    }\n",
       "</style>\n",
       "<table border=\"1\" class=\"dataframe\">\n",
       "  <thead>\n",
       "    <tr style=\"text-align: right;\">\n",
       "      <th></th>\n",
       "      <th>claim_explanation</th>\n",
       "      <th>label</th>\n",
       "    </tr>\n",
       "  </thead>\n",
       "  <tbody>\n",
       "    <tr>\n",
       "      <th>0</th>\n",
       "      <td>\"The money the Clinton Foundation took from fr...</td>\n",
       "      <td>0</td>\n",
       "    </tr>\n",
       "    <tr>\n",
       "      <th>1</th>\n",
       "      <td>Annual Mammograms May Have More False-Positive...</td>\n",
       "      <td>1</td>\n",
       "    </tr>\n",
       "    <tr>\n",
       "      <th>2</th>\n",
       "      <td>SBRT Offers Prostate Cancer Patients High Canc...</td>\n",
       "      <td>1</td>\n",
       "    </tr>\n",
       "    <tr>\n",
       "      <th>3</th>\n",
       "      <td>Study: Vaccine for Breast, Ovarian Cancer Has ...</td>\n",
       "      <td>2</td>\n",
       "    </tr>\n",
       "    <tr>\n",
       "      <th>4</th>\n",
       "      <td>Some appendicitis cases may not require ’emerg...</td>\n",
       "      <td>2</td>\n",
       "    </tr>\n",
       "  </tbody>\n",
       "</table>\n",
       "</div>"
      ],
      "text/plain": [
       "                                   claim_explanation  label\n",
       "0  \"The money the Clinton Foundation took from fr...      0\n",
       "1  Annual Mammograms May Have More False-Positive...      1\n",
       "2  SBRT Offers Prostate Cancer Patients High Canc...      1\n",
       "3  Study: Vaccine for Breast, Ovarian Cancer Has ...      2\n",
       "4  Some appendicitis cases may not require ’emerg...      2"
      ]
     },
     "execution_count": 97,
     "metadata": {},
     "output_type": "execute_result"
    }
   ],
   "source": [
    "#Simple approach of merging both claim and explanation\n",
    "df_train['claim_explanation'] = df_train['claim'].map(str) + ' ' + df_train['explanation'].map(str)\n",
    "df_test['claim_explanation'] = df_test['claim'].map(str) + ' ' + df_test['explanation'].map(str)\n",
    "df_val['claim_explanation'] = df_val['claim'].map(str) + ' ' + df_val['explanation'].map(str)\n",
    "\n",
    "\n",
    "# Since it is veracity of CLAIMS, remove columns except claim, label and explanation\n",
    "df_train = df_train[['claim_explanation', 'label']]\n",
    "df_test = df_test[['claim_explanation', 'label']]\n",
    "df_val = df_val[['claim_explanation', 'label']]\n",
    "\n",
    "df_train.head()"
   ]
  },
  {
   "cell_type": "markdown",
   "metadata": {},
   "source": [
    "**Loading tokenizer for encoding**"
   ]
  },
  {
   "cell_type": "code",
   "execution_count": 98,
   "metadata": {},
   "outputs": [],
   "source": [
    "# tokenizer for encoding\n",
    "from transformers import TFAutoModel, AutoTokenizer, AutoConfig\n",
    "import torch\n",
    "\n",
    "# Used scibert instead of base bert because it is trained on scientific text\n",
    "model_name = \"allenai/scibert_scivocab_uncased\" \n",
    "\n",
    "\n",
    "# from_pt=true to work with tensorflow\n",
    "sci_tokenizer = AutoTokenizer.from_pretrained(model_name,from_pt=True, do_lower_case=True)"
   ]
  },
  {
   "cell_type": "code",
   "execution_count": 101,
   "metadata": {},
   "outputs": [],
   "source": [
    "# Tokenise\n",
    "# recommennded sequence length 256 for 16 batch size (juipyter notebook memory issue force us to use 16)\n",
    "SEQ_LEN = 256\n",
    "\n",
    "train_id = np.zeros((len(df_train), SEQ_LEN))\n",
    "train_masks = np.zeros((len(df_train), SEQ_LEN))\n",
    "\n",
    "val_id = np.zeros((len(df_val), SEQ_LEN))\n",
    "val_masks = np.zeros((len(df_val), SEQ_LEN))\n",
    "\n",
    "test_id = np.zeros((len(df_test), SEQ_LEN))\n",
    "test_masks = np.zeros((len(df_test), SEQ_LEN))\n",
    "\n"
   ]
  },
  {
   "cell_type": "code",
   "execution_count": 102,
   "metadata": {},
   "outputs": [],
   "source": [
    "#create input ids and attention masks\n",
    "def tokens_and_mask(df, ids, masks, tokenizer):\n",
    "    for i, explanation in enumerate(df['claim_explanation']):\n",
    "        tokenized_text = tokenizer.encode_plus(\n",
    "            explanation,\n",
    "            max_length=SEQ_LEN,\n",
    "            truncation=True, \n",
    "            padding='max_length', \n",
    "            add_special_tokens=True, # CLS, PAD, SEP\n",
    "            return_tensors='tf'\n",
    "        )\n",
    "        ids[i, :] = tokenized_text['input_ids']\n",
    "        masks[i, :] = tokenized_text['attention_mask']\n",
    "    return ids, masks"
   ]
  },
  {
   "cell_type": "markdown",
   "metadata": {},
   "source": [
    "Create token ids and masks"
   ]
  },
  {
   "cell_type": "code",
   "execution_count": 103,
   "metadata": {},
   "outputs": [],
   "source": [
    "X_train_input_ids, X_train_masks = tokens_and_mask(df_train, train_id, train_masks, sci_tokenizer)\n",
    "X_val_input_ids, X_val_masks = tokens_and_mask(df_val, val_id, val_masks, sci_tokenizer)\n"
   ]
  },
  {
   "cell_type": "code",
   "execution_count": 104,
   "metadata": {},
   "outputs": [],
   "source": [
    "# one-hot encode target vector\n",
    "labels = np.zeros((len(df_train), 4))\n",
    "labels[np.arange(len(df_train)), df_train['label'].values] = 1\n",
    "\n",
    "labels_val = np.zeros((len(df_val), 4))\n",
    "labels_val[np.arange(len(df_val)), df_val['label'].values] = 1\n"
   ]
  },
  {
   "cell_type": "code",
   "execution_count": 105,
   "metadata": {},
   "outputs": [],
   "source": [
    "# create dataset with seperate element for each row of input\n",
    "dataset_train = tf.data.Dataset.from_tensor_slices((X_train_input_ids, X_train_masks, labels))\n",
    "dataset_val = tf.data.Dataset.from_tensor_slices((X_val_input_ids, X_val_masks, labels_val))\n"
   ]
  },
  {
   "cell_type": "code",
   "execution_count": 106,
   "metadata": {},
   "outputs": [],
   "source": [
    "# converting to required format for tensorflow dataset (have keys)\n",
    "def mapping(input_ids, attn_masks, labels):\n",
    "    return {\n",
    "        'input_ids': input_ids,\n",
    "        'attention_mask': attn_masks\n",
    "    }, labels\n",
    "    \n",
    "dataset_train = dataset_train.map(mapping) \n",
    "dataset_val = dataset_val.map(mapping) "
   ]
  },
  {
   "cell_type": "code",
   "execution_count": 107,
   "metadata": {},
   "outputs": [],
   "source": [
    "# shuffle data and make batch, drop any left\n",
    "BATCH_SIZE = 16\n",
    "# # https://stackoverflow.com/questions/57948003/ - change max_buffer_size to higher value\n",
    "# BATCH_SIZE = 32\n",
    "\n",
    "\n",
    "dataset_train = dataset_train.shuffle(10000).batch(BATCH_SIZE, drop_remainder=True)\n",
    "dataset_val = dataset_val.shuffle(10000).batch(BATCH_SIZE, drop_remainder=True)"
   ]
  },
  {
   "cell_type": "code",
   "execution_count": 108,
   "metadata": {},
   "outputs": [],
   "source": [
    "data_train = dataset_train.take(len(df_train))\n",
    "data_val = dataset_val.take(len(df_val))"
   ]
  },
  {
   "cell_type": "code",
   "execution_count": 109,
   "metadata": {},
   "outputs": [],
   "source": [
    "# Save some memory by deleting\n",
    "del dataset_train\n",
    "del dataset_val"
   ]
  },
  {
   "cell_type": "markdown",
   "metadata": {},
   "source": [
    "**Loading Pretrained Model and building network**"
   ]
  },
  {
   "cell_type": "code",
   "execution_count": 110,
   "metadata": {},
   "outputs": [],
   "source": [
    "config = AutoConfig.from_pretrained(model_name)\n",
    "sci_model = TFAutoModel.from_config(config)"
   ]
  },
  {
   "cell_type": "code",
   "execution_count": 111,
   "metadata": {},
   "outputs": [],
   "source": [
    "#Create network\n",
    "\n",
    "# defining 2 input layers for input_ids and attn_masks\n",
    "input_ids = tf.keras.layers.Input(shape=(SEQ_LEN,), name='input_ids', dtype='int32')\n",
    "attn_masks = tf.keras.layers.Input(shape=(SEQ_LEN,), name='attention_mask', dtype='int32')\n",
    "\n",
    "#Setup layers with relevant activation functions\n",
    "# 3D tensor pooled into 2D tensor\n",
    "bert_embds = sci_model.bert(input_ids, attention_mask=attn_masks)[1]\n",
    "hidden_layer = tf.keras.layers.Dense(512, activation='relu', name='hidden_layer')(bert_embds)\n",
    "\n",
    "# #dropout regularisation\n",
    "# drop_out = tf.keras.layers.Dropout(0.8)(hidden_layer)\n",
    "\n",
    "# softmax -> calcs probs of classes\n",
    "# 4 because 4 classes\n",
    "output_layer = tf.keras.layers.Dense(4, activation='softmax', name='output_layer')(hidden_layer)\n"
   ]
  },
  {
   "cell_type": "code",
   "execution_count": 112,
   "metadata": {},
   "outputs": [
    {
     "name": "stdout",
     "output_type": "stream",
     "text": [
      "Model: \"model_3\"\n",
      "__________________________________________________________________________________________________\n",
      "Layer (type)                    Output Shape         Param #     Connected to                     \n",
      "==================================================================================================\n",
      "input_ids (InputLayer)          [(None, 256)]        0                                            \n",
      "__________________________________________________________________________________________________\n",
      "attention_mask (InputLayer)     [(None, 256)]        0                                            \n",
      "__________________________________________________________________________________________________\n",
      "bert (TFBertMainLayer)          TFBaseModelOutputWit 109918464   input_ids[0][0]                  \n",
      "                                                                 attention_mask[0][0]             \n",
      "__________________________________________________________________________________________________\n",
      "hidden_layer (Dense)            (None, 512)          393728      bert[0][1]                       \n",
      "__________________________________________________________________________________________________\n",
      "output_layer (Dense)            (None, 4)            2052        hidden_layer[0][0]               \n",
      "==================================================================================================\n",
      "Total params: 110,314,244\n",
      "Trainable params: 110,314,244\n",
      "Non-trainable params: 0\n",
      "__________________________________________________________________________________________________\n"
     ]
    }
   ],
   "source": [
    "veracity_model = tf.keras.Model(inputs=[input_ids, attn_masks], outputs=output_layer)\n",
    "veracity_model.summary()"
   ]
  },
  {
   "cell_type": "code",
   "execution_count": 113,
   "metadata": {},
   "outputs": [],
   "source": [
    "# define loss function, metrics and optimizer\n",
    "veracity_model.compile(\n",
    "    #use HP 2e-5  preferred in https://arxiv.org/pdf/1905.05583.pdf but use 10 epochs instead of 4\n",
    "    optimizer=tf.keras.optimizers.Adam(learning_rate=2e-5, decay=1e-6),\n",
    "    loss=tf.keras.losses.CategoricalCrossentropy(),\n",
    "    metrics= tf.keras.metrics.CategoricalAccuracy('accuracy'))"
   ]
  },
  {
   "cell_type": "code",
   "execution_count": 114,
   "metadata": {},
   "outputs": [
    {
     "name": "stdout",
     "output_type": "stream",
     "text": [
      "Num GPUs Available:  1\n",
      "2.5.0\n",
      "<tensorflow.python.eager.context._EagerDeviceContext object at 0x0000023CE4CCDA40>\n"
     ]
    }
   ],
   "source": [
    "# GPU check\n",
    "print(\"Num GPUs Available: \", len(tf.config.experimental.list_physical_devices('GPU')))\n",
    "print(tf.version.VERSION)\n",
    "print(tf.device('GPU'))"
   ]
  },
  {
   "cell_type": "markdown",
   "metadata": {},
   "source": [
    "**Train Model**"
   ]
  },
  {
   "cell_type": "code",
   "execution_count": 115,
   "metadata": {},
   "outputs": [
    {
     "name": "stdout",
     "output_type": "stream",
     "text": [
      "Epoch 1/7\n",
      "612/612 [==============================] - 209s 327ms/step - loss: 0.9812 - accuracy: 0.5694 - val_loss: 0.8370 - val_accuracy: 0.6575\n",
      "Epoch 2/7\n",
      "612/612 [==============================] - 200s 326ms/step - loss: 0.8342 - accuracy: 0.6233 - val_loss: 0.7983 - val_accuracy: 0.6692\n",
      "Epoch 3/7\n",
      "612/612 [==============================] - 200s 326ms/step - loss: 0.7645 - accuracy: 0.6574 - val_loss: 0.7736 - val_accuracy: 0.6800\n",
      "Epoch 4/7\n",
      "612/612 [==============================] - 200s 327ms/step - loss: 0.6847 - accuracy: 0.7018 - val_loss: 0.9996 - val_accuracy: 0.6450\n",
      "Epoch 5/7\n",
      "612/612 [==============================] - 200s 327ms/step - loss: 0.5762 - accuracy: 0.7569 - val_loss: 0.8528 - val_accuracy: 0.6683\n",
      "Epoch 6/7\n",
      "612/612 [==============================] - 200s 327ms/step - loss: 0.4414 - accuracy: 0.8244 - val_loss: 0.9873 - val_accuracy: 0.6817\n",
      "Epoch 7/7\n",
      "612/612 [==============================] - 200s 327ms/step - loss: 0.2888 - accuracy: 0.8891 - val_loss: 1.3005 - val_accuracy: 0.6650\n"
     ]
    }
   ],
   "source": [
    "with tf.device('GPU'):\n",
    "    hist = veracity_model.fit(\n",
    "        data_train,\n",
    "        validation_data=data_val,\n",
    "        epochs=7\n",
    "    )"
   ]
  },
  {
   "cell_type": "code",
   "execution_count": 116,
   "metadata": {},
   "outputs": [],
   "source": [
    "import csv\n",
    "with open('sci_bert_test_no_dropout.csv', 'w') as f:\n",
    "    w = csv.DictWriter(f, hist.history.keys())\n",
    "    w.writeheader()\n",
    "    w.writerow(hist.history)"
   ]
  },
  {
   "cell_type": "code",
   "execution_count": 117,
   "metadata": {},
   "outputs": [
    {
     "data": {
      "text/plain": [
       "<matplotlib.legend.Legend at 0x2411b1d5100>"
      ]
     },
     "execution_count": 117,
     "metadata": {},
     "output_type": "execute_result"
    },
    {
     "data": {
      "image/png": "[encoded data removed]",
      "text/plain": [
       "<Figure size 720x720 with 1 Axes>"
      ]
     },
     "metadata": {
      "needs_background": "light"
     },
     "output_type": "display_data"
    },
    {
     "data": {
      "image/png": "[encoded data removed]",
      "text/plain": [
       "<Figure size 720x720 with 1 Axes>"
      ]
     },
     "metadata": {
      "needs_background": "light"
     },
     "output_type": "display_data"
    }
   ],
   "source": [
    "df = pd.read_csv(\"sci_bert_test_no_dropout.csv\")\n",
    "\n",
    "loss = eval(df[\"loss\"][0])\n",
    "accuracy = eval(df[\"accuracy\"][0])\n",
    "val_loss = eval(df[\"val_loss\"][0])\n",
    "val_accuracy = eval(df[\"val_accuracy\"][0])\n",
    "\n",
    "plt.figure(figsize=(10,10))\n",
    "plt.title('Train')\n",
    "plt.xlabel('Epoch')\n",
    "plt.ylabel('Accuracy/Loss')\n",
    "plt.plot(np.arange(0, len(loss)),loss, label='Loss')\n",
    "plt.plot(np.arange(0, len(accuracy)),accuracy, label='Accuracy')\n",
    "plt.legend()\n",
    "\n",
    "plt.figure(figsize=(10,10))\n",
    "plt.title('Validation')\n",
    "plt.xlabel('Epoch')\n",
    "plt.ylabel('Accuracy/Loss')\n",
    "plt.plot(np.arange(0, len(val_loss)),val_loss, label='Val Loss')\n",
    "plt.plot(np.arange(0, len(val_accuracy)),val_accuracy, label='Val Accuracy')\n",
    "plt.legend()"
   ]
  },
  {
   "cell_type": "markdown",
   "metadata": {},
   "source": [
    "Interestingly, the validation graph shows no sign of progression over epochs. The loss keeps getting higher. Would be interesting to see over a lot more epochs if this is the case still."
   ]
  },
  {
   "cell_type": "code",
   "execution_count": 118,
   "metadata": {},
   "outputs": [
    {
     "name": "stderr",
     "output_type": "stream",
     "text": [
      "WARNING:absl:Found untraced functions such as embeddings_layer_call_fn, embeddings_layer_call_and_return_conditional_losses, encoder_layer_call_fn, encoder_layer_call_and_return_conditional_losses, pooler_layer_call_fn while saving (showing 5 of 1050). These functions will not be directly callable after loading.\n"
     ]
    },
    {
     "name": "stdout",
     "output_type": "stream",
     "text": [
      "INFO:tensorflow:Assets written to: sci_bert_test_no_dropout\\assets\n"
     ]
    },
    {
     "name": "stderr",
     "output_type": "stream",
     "text": [
      "INFO:tensorflow:Assets written to: sci_bert_test_no_dropout\\assets\n"
     ]
    }
   ],
   "source": [
    "veracity_model.save('sci_bert_test_no_dropout')"
   ]
  },
  {
   "cell_type": "markdown",
   "metadata": {},
   "source": [
    "**Evaluate with Test Data**"
   ]
  },
  {
   "cell_type": "code",
   "execution_count": 119,
   "metadata": {},
   "outputs": [],
   "source": [
    "loaded_model = tf.keras.models.load_model('sci_bert_test_no_dropout')"
   ]
  },
  {
   "cell_type": "markdown",
   "metadata": {},
   "source": [
    "Use test data to create classification report which will tell us precision, recall, f1"
   ]
  },
  {
   "cell_type": "code",
   "execution_count": 120,
   "metadata": {},
   "outputs": [],
   "source": [
    "def prepare_datas(input_text, tokenizer):\n",
    "    processed_data = []\n",
    "    for text in input_text:\n",
    "        token = tokenizer.encode_plus(\n",
    "            text,\n",
    "            max_length=SEQ_LEN, \n",
    "            truncation=True, \n",
    "            padding='max_length', \n",
    "            add_special_tokens=True,\n",
    "            return_tensors='tf'\n",
    "        )\n",
    "        processed_data.append({\n",
    "            'input_ids': tf.cast(token.input_ids, tf.float64),\n",
    "            'attention_mask': tf.cast(token.attention_mask, tf.float64)\n",
    "        })\n",
    "    return processed_data\n",
    "\n",
    "#0 false, 1, mixture, 2 ture, 3 unproven\n",
    "def make_predictions(model, processed_datas, classes=[0,1,2,3]):\n",
    "    y_preds = []\n",
    "    for x in processed_datas:\n",
    "        probs = model.predict(x)[0]\n",
    "        y_preds.append(classes[np.argmax(probs)])\n",
    "    return y_preds"
   ]
  },
  {
   "cell_type": "code",
   "execution_count": 121,
   "metadata": {},
   "outputs": [
    {
     "name": "stdout",
     "output_type": "stream",
     "text": [
      "Predicted Sentiment: [0, 2, 0, 0, 3, 0, 2, 2, 0, 2, 2, 2, 0, 0, 2, 0, 2, 0, 2, 0, 0, 2, 0, 2, 2, 0, 0, 2, 0, 2, 0, 1, 2, 0, 2, 0, 2, 2, 2, 3, 2, 0, 0, 0, 0, 2, 0, 2, 2, 2, 2, 0, 2, 1, 2, 0, 2, 0, 0, 0, 3, 0, 2, 0, 2, 0, 2, 2, 2, 0, 2, 0, 2, 0, 0, 0, 0, 2, 2, 0, 2, 2, 2, 0, 0, 2, 0, 1, 2, 0, 0, 2, 2, 2, 0, 0, 2, 3, 0, 0, 2, 0, 0, 2, 0, 2, 2, 2, 2, 0, 2, 0, 0, 0, 2, 2, 2, 0, 0, 2, 0, 0, 0, 0, 0, 0, 0, 2, 0, 0, 1, 0, 0, 2, 0, 0, 2, 2, 3, 1, 2, 0, 2, 2, 2, 2, 0, 0, 2, 2, 1, 2, 0, 0, 0, 2, 2, 2, 2, 2, 2, 0, 0, 2, 2, 0, 0, 0, 2, 0, 2, 1, 0, 2, 2, 2, 2, 2, 3, 2, 0, 0, 0, 2, 0, 2, 2, 2, 2, 2, 2, 0, 2, 0, 3, 0, 2, 0, 2, 2, 2, 2, 2, 0, 0, 0, 2, 2, 2, 2, 0, 2, 2, 2, 0, 2, 2, 0, 2, 2, 2, 2, 0, 0, 2, 0, 2, 2, 0, 2, 2, 2, 1, 2, 2, 2, 0, 0, 0, 0, 2, 2, 0, 2, 2, 3, 2, 2, 0, 0, 2, 3, 2, 1, 0, 0, 2, 2, 1, 0, 1, 0, 0, 0, 1, 0, 2, 2, 2, 2, 0, 2, 0, 2, 2, 2, 2, 2, 1, 0, 0, 2, 1, 2, 0, 2, 0, 2, 2, 2, 2, 2, 2, 2, 0, 2, 2, 0, 2, 0, 0, 2, 2, 2, 0, 2, 2, 1, 0, 0, 2, 2, 2, 0, 2, 2, 0, 1, 0, 2, 2, 2, 2, 2, 0, 3, 0, 0, 2, 2, 2, 0, 0, 2, 0, 0, 2, 0, 2, 0, 2, 2, 2, 0, 2, 0, 0, 0, 2, 1, 2, 0, 0, 2, 3, 2, 1, 1, 2, 3, 2, 2, 1, 0, 2, 0, 0, 2, 2, 2, 2, 2, 2, 2, 2, 0, 0, 2, 2, 2, 2, 2, 2, 2, 0, 0, 3, 0, 2, 2, 0, 2, 1, 2, 2, 0, 2, 2, 0, 0, 0, 2, 2, 2, 0, 2, 0, 0, 0, 2, 3, 2, 2, 0, 0, 3, 0, 0, 0, 3, 2, 2, 1, 2, 2, 2, 1, 2, 2, 2, 0, 0, 2, 2, 0, 0, 0, 0, 0, 2, 2, 2, 2, 1, 3, 0, 2, 0, 2, 1, 0, 1, 0, 2, 2, 1, 2, 2, 0, 2, 2, 2, 2, 2, 2, 0, 2, 1, 2, 2, 2, 2, 0, 2, 0, 0, 0, 0, 2, 0, 0, 0, 0, 2, 2, 2, 2, 0, 0, 2, 2, 0, 0, 0, 2, 2, 2, 0, 1, 2, 2, 2, 2, 3, 0, 2, 3, 0, 2, 0, 2, 0, 2, 0, 2, 0, 2, 2, 2, 2, 2, 0, 2, 2, 0, 0, 0, 0, 2, 1, 2, 2, 2, 0, 2, 2, 0, 0, 0, 0, 0, 0, 1, 1, 1, 2, 0, 1, 2, 1, 2, 0, 2, 2, 2, 0, 1, 2, 2, 2, 1, 2, 2, 2, 2, 0, 0, 0, 0, 2, 1, 2, 3, 0, 2, 1, 2, 2, 0, 0, 2, 2, 2, 2, 2, 0, 2, 0, 2, 2, 0, 0, 0, 0, 2, 0, 0, 2, 0, 0, 2, 1, 2, 0, 2, 0, 2, 2, 2, 2, 2, 0, 2, 2, 2, 2, 2, 2, 2, 0, 0, 2, 0, 1, 2, 2, 2, 2, 2, 2, 2, 2, 0, 2, 0, 0, 2, 2, 1, 2, 0, 2, 1, 1, 0, 2, 2, 0, 2, 3, 0, 1, 3, 0, 0, 0, 0, 0, 0, 2, 2, 0, 2, 0, 1, 2, 2, 2, 2, 2, 0, 0, 2, 2, 2, 2, 0, 0, 2, 2, 0, 2, 2, 2, 2, 2, 3, 2, 2, 1, 0, 0, 2, 2, 0, 0, 2, 2, 0, 0, 0, 0, 2, 2, 0, 2, 2, 0, 0, 2, 2, 0, 0, 2, 0, 0, 0, 0, 2, 2, 1, 2, 2, 0, 0, 0, 0, 2, 2, 0, 2, 2, 0, 3, 2, 0, 2, 0, 1, 0, 2, 0, 0, 0, 1, 2, 2, 2, 2, 0, 2, 0, 2, 3, 2, 2, 0, 3, 2, 0, 0, 2, 0, 0, 2, 2, 2, 2, 0, 0, 0, 0, 2, 2, 3, 2, 0, 0, 2, 1, 2, 0, 0, 1, 2, 0, 2, 1, 2, 0, 2, 0, 0, 2, 2, 2, 2, 1, 0, 0, 0, 0, 1, 0, 0, 2, 0, 2, 2, 0, 2, 2, 0, 2, 2, 2, 2, 2, 2, 0, 2, 0, 2, 3, 0, 2, 0, 0, 2, 0, 0, 2, 0, 2, 2, 2, 1, 2, 2, 2, 2, 0, 2, 2, 0, 2, 0, 2, 2, 0, 1, 0, 0, 2, 3, 2, 2, 0, 0, 2, 0, 2, 0, 3, 2, 2, 2, 2, 2, 2, 2, 0, 0, 1, 0, 0, 0, 0, 2, 2, 0, 2, 2, 2, 2, 2, 0, 0, 2, 2, 2, 0, 2, 2, 0, 2, 2, 2, 0, 2, 0, 2, 2, 0, 2, 2, 0, 2, 0, 2, 2, 0, 0, 2, 1, 1, 1, 2, 0, 2, 2, 0, 1, 0, 0, 2, 0, 0, 0, 2, 2, 2, 2, 2, 2, 0, 2, 1, 2, 2, 0, 0, 2, 2, 2, 0, 2, 2, 3, 2, 2, 2, 2, 0, 3, 2, 0, 0, 2, 2, 2, 0, 0, 0, 2, 2, 2, 2, 2, 0, 0, 0, 2, 0, 0, 3, 0, 3, 0, 2, 0, 0, 0, 0, 2, 1, 2, 0, 3, 0, 1, 2, 1, 2, 0, 2, 1, 2, 2, 0, 3, 2, 2, 0, 2, 0, 0, 2, 0, 0, 0, 2, 0, 0, 1, 0, 0, 0, 0, 2, 2, 2, 2, 0, 0, 0, 0, 2, 0, 0, 1, 2, 0, 1, 2, 2, 2, 0, 0, 0, 0, 2, 2, 0, 3, 0, 2, 2, 2, 2, 1, 2, 2, 2, 2, 2, 0, 0, 2, 1, 2, 0, 0, 0, 0, 0, 2, 2, 2, 2, 2, 1, 2, 2, 2, 0, 2, 2, 2, 1, 0, 2, 0, 0, 1, 0, 2, 2, 2, 0, 2, 0, 0, 0, 2, 2, 1, 0, 0, 0, 2, 0, 2, 0, 2, 0, 0, 2, 2, 0, 2, 0, 2, 0, 2, 2, 2, 0, 1, 2, 0, 0, 0, 2, 1, 2, 2, 2, 1, 1, 2, 2, 0, 0, 2, 2, 2, 0, 2, 2, 2, 1, 0, 2, 0, 2, 0, 3, 2, 0, 2, 0, 2, 2, 0, 0, 3, 0, 1, 1, 2, 0, 0, 2, 2, 2, 1, 2, 2, 0, 2, 0, 2, 2, 2, 0, 0, 2, 1, 2, 0, 2, 2, 1, 2, 0, 0, 0, 2, 0, 1, 0, 1, 2, 0, 2, 1, 0, 2, 2, 2, 2, 0, 0, 0, 0, 0, 2, 2, 1, 1, 2, 0, 2, 2, 2, 2, 2, 0, 1, 0, 2, 2, 0, 0, 0, 0, 3, 2, 2, 0, 2, 2]\n"
     ]
    }
   ],
   "source": [
    "processed_datas = prepare_datas(df_test[\"claim_explanation\"], sci_tokenizer)\n",
    "y_preds = make_predictions(loaded_model, processed_datas)\n",
    "print(f\"Predicted Sentiment: {y_preds}\")"
   ]
  },
  {
   "cell_type": "code",
   "execution_count": 122,
   "metadata": {},
   "outputs": [
    {
     "name": "stdout",
     "output_type": "stream",
     "text": [
      "              precision    recall  f1-score   support\n",
      "\n",
      "           0       0.57      0.71      0.63       388\n",
      "           1       0.46      0.21      0.29       201\n",
      "           2       0.77      0.80      0.79       599\n",
      "           3       0.30      0.27      0.28        45\n",
      "\n",
      "    accuracy                           0.66      1233\n",
      "   macro avg       0.53      0.50      0.50      1233\n",
      "weighted avg       0.64      0.66      0.64      1233\n",
      "\n"
     ]
    }
   ],
   "source": [
    "from sklearn.metrics import classification_report\n",
    "print(classification_report(list(df_test['label']), y_preds))"
   ]
  },
  {
   "cell_type": "markdown",
   "metadata": {},
   "source": [
    "Scibert did fairly well getting getting 0.66 in accuracy. Only under 4 points less than scibert model in https://arxiv.org/pdf/2010.09926.pdf\n",
    "As expected the f1-score is not good for 1 and 3. Suspect due to the imbalanced dataset having an abundance of 0 and 2, not not so much 1 and 3\n",
    "\n",
    "Perhaps base bert model may do better? Let's find out"
   ]
  },
  {
   "cell_type": "code",
   "execution_count": 123,
   "metadata": {},
   "outputs": [
    {
     "name": "stderr",
     "output_type": "stream",
     "text": [
      "Some layers from the model checkpoint at bert-base-cased were not used when initializing TFBertModel: ['mlm___cls', 'nsp___cls']\n",
      "- This IS expected if you are initializing TFBertModel from the checkpoint of a model trained on another task or with another architecture (e.g. initializing a BertForSequenceClassification model from a BertForPreTraining model).\n",
      "- This IS NOT expected if you are initializing TFBertModel from the checkpoint of a model that you expect to be exactly identical (initializing a BertForSequenceClassification model from a BertForSequenceClassification model).\n",
      "All the layers of TFBertModel were initialized from the model checkpoint at bert-base-cased.\n",
      "If your task is similar to the task the model of the checkpoint was trained on, you can already use TFBertModel for predictions without further training.\n"
     ]
    },
    {
     "name": "stdout",
     "output_type": "stream",
     "text": [
      "Epoch 1/7\n",
      "612/612 [==============================] - 207s 327ms/step - loss: 0.7879 - accuracy: 0.6607 - val_loss: 0.6450 - val_accuracy: 0.7317\n",
      "Epoch 2/7\n",
      "612/612 [==============================] - 200s 326ms/step - loss: 0.5661 - accuracy: 0.7694 - val_loss: 0.6802 - val_accuracy: 0.7125\n",
      "Epoch 3/7\n",
      "612/612 [==============================] - 200s 326ms/step - loss: 0.4129 - accuracy: 0.8328 - val_loss: 0.6353 - val_accuracy: 0.7500\n",
      "Epoch 4/7\n",
      "612/612 [==============================] - 200s 326ms/step - loss: 0.2609 - accuracy: 0.9000 - val_loss: 0.7886 - val_accuracy: 0.7367\n",
      "Epoch 5/7\n",
      "612/612 [==============================] - 200s 326ms/step - loss: 0.1615 - accuracy: 0.9406 - val_loss: 1.0964 - val_accuracy: 0.7342\n",
      "Epoch 6/7\n",
      "612/612 [==============================] - 200s 326ms/step - loss: 0.1157 - accuracy: 0.9587 - val_loss: 1.1104 - val_accuracy: 0.7508\n",
      "Epoch 7/7\n",
      "612/612 [==============================] - 200s 327ms/step - loss: 0.0795 - accuracy: 0.9705 - val_loss: 1.1843 - val_accuracy: 0.7433\n"
     ]
    },
    {
     "name": "stderr",
     "output_type": "stream",
     "text": [
      "WARNING:absl:Found untraced functions such as embeddings_layer_call_fn, embeddings_layer_call_and_return_conditional_losses, encoder_layer_call_fn, encoder_layer_call_and_return_conditional_losses, pooler_layer_call_fn while saving (showing 5 of 1050). These functions will not be directly callable after loading.\n"
     ]
    },
    {
     "name": "stdout",
     "output_type": "stream",
     "text": [
      "INFO:tensorflow:Assets written to: base_bert_test_no_dropout\\assets\n"
     ]
    },
    {
     "name": "stderr",
     "output_type": "stream",
     "text": [
      "INFO:tensorflow:Assets written to: base_bert_test_no_dropout\\assets\n"
     ]
    }
   ],
   "source": [
    "from transformers import TFBertModel\n",
    "base_model = TFBertModel.from_pretrained('bert-base-cased')\n",
    "base_tokenizer = AutoTokenizer.from_pretrained(\"bert-base-cased\", do_lower_case=True)\n",
    "\n",
    "# Repeated lines from above to make embedding and model for base bert\n",
    "\n",
    "X_train_input_ids, X_train_masks = tokens_and_mask(df_train, train_id, train_masks, base_tokenizer)\n",
    "X_val_input_ids, X_val_masks = tokens_and_mask(df_val, val_id, val_masks, base_tokenizer)\n",
    "\n",
    "labels = np.zeros((len(df_train), 4))\n",
    "labels[np.arange(len(df_train)), df_train['label'].values] = 1\n",
    "\n",
    "labels_val = np.zeros((len(df_val), 4))\n",
    "labels_val[np.arange(len(df_val)), df_val['label'].values] = 1\n",
    "\n",
    "dataset_train = tf.data.Dataset.from_tensor_slices((X_train_input_ids, X_train_masks, labels))\n",
    "dataset_val = tf.data.Dataset.from_tensor_slices((X_val_input_ids, X_val_masks, labels_val))\n",
    "\n",
    "dataset_train = dataset_train.map(mapping) \n",
    "dataset_val = dataset_val.map(mapping) \n",
    "\n",
    "dataset_train = dataset_train.shuffle(10000).batch(BATCH_SIZE, drop_remainder=True)\n",
    "dataset_val = dataset_val.shuffle(10000).batch(BATCH_SIZE, drop_remainder=True)\n",
    "\n",
    "data_train = dataset_train.take(len(df_train))\n",
    "data_val = dataset_val.take(len(df_val))\n",
    "\n",
    "# Save some memory by deleting\n",
    "del dataset_train\n",
    "del dataset_val\n",
    "\n",
    "\n",
    "#Create network\n",
    "\n",
    "input_ids = tf.keras.layers.Input(shape=(SEQ_LEN,), name='input_ids', dtype='int32')\n",
    "attn_masks = tf.keras.layers.Input(shape=(SEQ_LEN,), name='attention_mask', dtype='int32')\n",
    "\n",
    "bert_embds = base_model.bert(input_ids, attention_mask=attn_masks)[1]\n",
    "hidden_layer = tf.keras.layers.Dense(512, activation='relu', name='hidden_layer')(bert_embds)\n",
    "\n",
    "output_layer = tf.keras.layers.Dense(4, activation='softmax', name='output_layer')(hidden_layer)\n",
    "\n",
    "base_model = tf.keras.Model(inputs=[input_ids, attn_masks], outputs=output_layer)\n",
    "\n",
    "base_model.compile(\n",
    "    optimizer=tf.keras.optimizers.Adam(learning_rate=2e-5, decay=1e-6),\n",
    "    loss=tf.keras.losses.CategoricalCrossentropy(),\n",
    "    metrics= tf.keras.metrics.CategoricalAccuracy('accuracy'))\n",
    "    \n",
    "with tf.device('GPU'):\n",
    "    hist = base_model.fit(\n",
    "        data_train,\n",
    "        validation_data=data_val,\n",
    "        epochs=7\n",
    "    )\n",
    "import csv\n",
    "with open('base_bert_test_no_dropout.csv', 'w') as f:\n",
    "    w = csv.DictWriter(f, hist.history.keys())\n",
    "    w.writeheader()\n",
    "    w.writerow(hist.history)\n",
    "\n",
    "veracity_model.save('base_bert_test_no_dropout')"
   ]
  },
  {
   "cell_type": "code",
   "execution_count": 124,
   "metadata": {},
   "outputs": [
    {
     "data": {
      "text/plain": [
       "<matplotlib.legend.Legend at 0x24130b169d0>"
      ]
     },
     "execution_count": 124,
     "metadata": {},
     "output_type": "execute_result"
    },
    {
     "data": {
      "image/png": "[encoded data removed]",
      "text/plain": [
       "<Figure size 720x720 with 1 Axes>"
      ]
     },
     "metadata": {
      "needs_background": "light"
     },
     "output_type": "display_data"
    },
    {
     "data": {
      "image/png": "[encoded data removed]",
      "text/plain": [
       "<Figure size 720x720 with 1 Axes>"
      ]
     },
     "metadata": {
      "needs_background": "light"
     },
     "output_type": "display_data"
    }
   ],
   "source": [
    "df = pd.read_csv(\"base_bert_test_no_dropout.csv\")\n",
    "\n",
    "loss = eval(df[\"loss\"][0])\n",
    "accuracy = eval(df[\"accuracy\"][0])\n",
    "val_loss = eval(df[\"val_loss\"][0])\n",
    "val_accuracy = eval(df[\"val_accuracy\"][0])\n",
    "\n",
    "plt.figure(figsize=(10,10))\n",
    "plt.title('Train')\n",
    "plt.xlabel('Epoch')\n",
    "plt.ylabel('Accuracy/Loss')\n",
    "plt.plot(np.arange(0, len(loss)),loss, label='Loss')\n",
    "plt.plot(np.arange(0, len(accuracy)),accuracy, label='Accuracy')\n",
    "plt.legend()\n",
    "\n",
    "plt.figure(figsize=(10,10))\n",
    "plt.title('Validation')\n",
    "plt.xlabel('Epoch')\n",
    "plt.ylabel('Accuracy/Loss')\n",
    "plt.plot(np.arange(0, len(val_loss)),val_loss, label='Val Loss')\n",
    "plt.plot(np.arange(0, len(val_accuracy)),val_accuracy, label='Val Accuracy')\n",
    "plt.legend()"
   ]
  },
  {
   "cell_type": "markdown",
   "metadata": {},
   "source": [
    "Similarly validation shows no progression and validation loss rises (much quicker than train), train accuracy and loss however shows constant improvement over epochs"
   ]
  },
  {
   "cell_type": "code",
   "execution_count": 125,
   "metadata": {},
   "outputs": [],
   "source": [
    "loaded_model = tf.keras.models.load_model('base_bert_test_no_dropout')\n",
    "\n",
    "processed_datas = prepare_datas(df_test[\"claim_explanation\"], base_tokenizer)\n",
    "y_preds = make_predictions(loaded_model, processed_datas)\n"
   ]
  },
  {
   "cell_type": "code",
   "execution_count": 126,
   "metadata": {},
   "outputs": [
    {
     "name": "stdout",
     "output_type": "stream",
     "text": [
      "              precision    recall  f1-score   support\n",
      "\n",
      "           0       0.34      0.69      0.45       388\n",
      "           1       0.10      0.00      0.01       201\n",
      "           2       0.49      0.10      0.16       599\n",
      "           3       0.04      0.31      0.08        45\n",
      "\n",
      "    accuracy                           0.27      1233\n",
      "   macro avg       0.24      0.27      0.17      1233\n",
      "weighted avg       0.36      0.27      0.22      1233\n",
      "\n"
     ]
    }
   ],
   "source": [
    "from sklearn.metrics import classification_report\n",
    "\n",
    "print(classification_report(list(df_test['label']), y_preds))"
   ]
  },
  {
   "cell_type": "markdown",
   "metadata": {},
   "source": [
    "Base bert is a more general model compared to Sci bert and that's perhaps the reason why the accuracy is much lower (0.27) compared to scibert's model. To conclude the first model we made is more ideal than the second."
   ]
  },
  {
   "cell_type": "markdown",
   "metadata": {},
   "source": [
    "**Key Notes**\n",
    "- Overall the validation data has shown to not make much progress over epochs for both base bert and sci bert. Perhaps due to the way this has been approach. \n",
    "- Other things I could have done are including dropouts and schedulers.\n",
    "- Employ sentence bert to encode contextualized representations for each of the evidence sentences and then rank these sentences according to their cosine similarity with respect to the contextualized representation of the claim sentence. Then select top ksentence for verracity prediction\n",
    "- Limits due to memory issue e.g. sentence length and batch size \"RESOURCE_EXHAUSTED: failed to allocate memory\"\n",
    "- Ideal model is the scibert model made first\n"
   ]
  },
  {
   "cell_type": "markdown",
   "metadata": {},
   "source": []
  }
 ],
 "metadata": {
  "interpreter": {
   "hash": "23b3cedb80b42832fc26a52106a21e81a544a28f39b6dfb0d8c892697dd35312"
  },
  "kernelspec": {
   "display_name": "env_name",
   "language": "python",
   "name": "python3"
  },
  "language_info": {
   "codemirror_mode": {
    "name": "ipython",
    "version": 3
   },
   "file_extension": ".py",
   "mimetype": "text/x-python",
   "name": "python",
   "nbconvert_exporter": "python",
   "pygments_lexer": "ipython3",
   "version": "3.9.7"
  }
 },
 "nbformat": 4,
 "nbformat_minor": 2
}
